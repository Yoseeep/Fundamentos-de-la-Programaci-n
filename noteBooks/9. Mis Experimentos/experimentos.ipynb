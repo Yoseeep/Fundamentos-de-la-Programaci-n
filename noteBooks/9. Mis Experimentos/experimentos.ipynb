{
 "cells": [
  {
   "cell_type": "code",
   "execution_count": 1,
   "metadata": {},
   "outputs": [
    {
     "name": "stdout",
     "output_type": "stream",
     "text": [
      "(1, 2, 3, 4)\n"
     ]
    }
   ],
   "source": [
    "tupla = (1,2,3,4)\n",
    "print(tupla)"
   ]
  },
  {
   "cell_type": "code",
   "execution_count": 2,
   "metadata": {},
   "outputs": [],
   "source": [
    "from typing import NamedTuple\n",
    "Persona = NamedTuple(\"persona\", [(\"dni\",str), (\"nombre\",str), (\"apellidos\",str), (\"edad\",int), (\"localidad\",str), (\"provincia\",str)])"
   ]
  },
  {
   "cell_type": "code",
   "execution_count": 3,
   "metadata": {},
   "outputs": [],
   "source": [
    "p1 = Persona('12345678A','JUAN','AFAN POSTIGO',22,'SEVILLA','SEVILLA')\n",
    "p2 = Persona('12345678B','NICOLAS','AGUILAR SAUCEDO',20,'DOS HERMANAS','SEVILLA')\n",
    "p3 = Persona('12345678C','LUCAS','ACEJO GARCÍA',20,'UTRERA','SEVILLA')\n",
    "p4 = Persona('12345678D','CLAUDIA','ÁLVAREZ GARCÍA',21,'VISO DEL ALCOR','SEVILLA')\n",
    "p5 = Persona('12345678E','PAULA','ALBENDÍN CAMINO',19,'TOMARES','SEVILLA')\n",
    "p6 = Persona('12345678F','ANA','LOBATO ÁLVAREZ',18,'PUNTA UMBRÍA','HUELVA')\n",
    "p7 = Persona('12345678G','ANTONIO','DÍAZ NARANJO',18,'CHIPIONA','CADIZ')\n",
    "p8 = Persona('12345678H','SOFÍA','GUERRERO CANTARERO',20,'CHIPIONA','CADIZ')"
   ]
  },
  {
   "cell_type": "code",
   "execution_count": 5,
   "metadata": {},
   "outputs": [
    {
     "name": "stdout",
     "output_type": "stream",
     "text": [
      "21\n"
     ]
    }
   ],
   "source": [
    "print(p4.edad)"
   ]
  },
  {
   "cell_type": "code",
   "execution_count": 6,
   "metadata": {},
   "outputs": [
    {
     "name": "stdout",
     "output_type": "stream",
     "text": [
      "persona(dni='12345678A', nombre='JUAN', apellidos='AFAN POSTIGO', edad=22, localidad='SEVILLA', provincia='SEVILLA')\n",
      "persona(dni='12345678B', nombre='NICOLAS', apellidos='AGUILAR SAUCEDO', edad=20, localidad='DOS HERMANAS', provincia='SEVILLA')\n",
      "persona(dni='12345678C', nombre='LUCAS', apellidos='ACEJO GARCÍA', edad=20, localidad='UTRERA', provincia='SEVILLA')\n",
      "persona(dni='12345678D', nombre='CLAUDIA', apellidos='ÁLVAREZ GARCÍA', edad=21, localidad='VISO DEL ALCOR', provincia='SEVILLA')\n",
      "persona(dni='12345678E', nombre='PAULA', apellidos='ALBENDÍN CAMINO', edad=19, localidad='TOMARES', provincia='SEVILLA')\n",
      "persona(dni='12345678F', nombre='ANA', apellidos='LOBATO ÁLVAREZ', edad=18, localidad='PUNTA UMBRÍA', provincia='HUELVA')\n",
      "persona(dni='12345678G', nombre='ANTONIO', apellidos='DÍAZ NARANJO', edad=18, localidad='CHIPIONA', provincia='CADIZ')\n",
      "persona(dni='12345678H', nombre='SOFÍA', apellidos='GUERRERO CANTARERO', edad=20, localidad='CHIPIONA', provincia='CADIZ')\n"
     ]
    }
   ],
   "source": [
    "for i in range(1,9):\n",
    "    print(eval(\"p\"+str(i)))"
   ]
  },
  {
   "cell_type": "code",
   "execution_count": 8,
   "metadata": {},
   "outputs": [
    {
     "name": "stdout",
     "output_type": "stream",
     "text": [
      "persona(dni='12345678A', nombre='JUAN', apellidos='AFAN POSTIGO', edad=22, localidad='SEVILLA', provincia='SEVILLA')\n",
      "persona(dni='12345678B', nombre='NICOLAS', apellidos='AGUILAR SAUCEDO', edad=20, localidad='DOS HERMANAS', provincia='SEVILLA')\n",
      "persona(dni='12345678C', nombre='LUCAS', apellidos='ACEJO GARCÍA', edad=20, localidad='UTRERA', provincia='SEVILLA')\n",
      "persona(dni='12345678D', nombre='CLAUDIA', apellidos='ÁLVAREZ GARCÍA', edad=21, localidad='VISO DEL ALCOR', provincia='SEVILLA')\n",
      "persona(dni='12345678E', nombre='PAULA', apellidos='ALBENDÍN CAMINO', edad=19, localidad='TOMARES', provincia='SEVILLA')\n",
      "persona(dni='12345678F', nombre='ANA', apellidos='LOBATO ÁLVAREZ', edad=18, localidad='PUNTA UMBRÍA', provincia='HUELVA')\n",
      "persona(dni='12345678G', nombre='ANTONIO', apellidos='DÍAZ NARANJO', edad=18, localidad='CHIPIONA', provincia='CADIZ')\n",
      "persona(dni='12345678H', nombre='SOFÍA', apellidos='GUERRERO CANTARERO', edad=20, localidad='CHIPIONA', provincia='CADIZ')\n"
     ]
    }
   ],
   "source": [
    "mi_lista = [p1,p2,p3,p4,p5,p6,p7,p8]\n",
    "for persona in mi_lista:\n",
    "    print(persona)"
   ]
  },
  {
   "cell_type": "code",
   "execution_count": 9,
   "metadata": {},
   "outputs": [
    {
     "name": "stdout",
     "output_type": "stream",
     "text": [
      "JUAN -> 22\n",
      "NICOLAS -> 20\n",
      "LUCAS -> 20\n",
      "CLAUDIA -> 21\n",
      "PAULA -> 19\n",
      "ANA -> 18\n",
      "ANTONIO -> 18\n",
      "SOFÍA -> 20\n"
     ]
    }
   ],
   "source": [
    "for persona in mi_lista:\n",
    "    print(persona.nombre, \"->\", persona.edad)"
   ]
  },
  {
   "cell_type": "code",
   "execution_count": 19,
   "metadata": {},
   "outputs": [
    {
     "name": "stdout",
     "output_type": "stream",
     "text": [
      "persona(dni='12345678B', nombre='NICOLAS', apellidos='AGUILAR SAUCEDO', edad=20, localidad='DOS HERMANAS', provincia='SEVILLA')\n",
      "persona(dni='12345678C', nombre='LUCAS', apellidos='ACEJO GARCÍA', edad=20, localidad='UTRERA', provincia='SEVILLA')\n",
      "persona(dni='12345678D', nombre='CLAUDIA', apellidos='ÁLVAREZ GARCÍA', edad=21, localidad='VISO DEL ALCOR', provincia='SEVILLA')\n",
      "persona(dni='12345678H', nombre='SOFÍA', apellidos='GUERRERO CANTARERO', edad=20, localidad='CHIPIONA', provincia='CADIZ')\n"
     ]
    }
   ],
   "source": [
    "mi_lista.pop(4)\n",
    "mi_lista.remove(p1)\n",
    "for persona in mi_lista:\n",
    "    print(persona)"
   ]
  },
  {
   "cell_type": "code",
   "execution_count": 17,
   "metadata": {},
   "outputs": [
    {
     "name": "stdout",
     "output_type": "stream",
     "text": [
      "Como nací 15/07/2003 y hoy es 2024-10-11 he vivido 186216.0\n"
     ]
    }
   ],
   "source": [
    "from datetime import datetime, date, time, timedelta\n",
    "\n",
    "nací=date(2003,7,15) #(donde a, m y d son los de tu fecha de nacimiento)\n",
    "hoy=datetime.now().date()\n",
    "print(\"Como nací\",nací.strftime(\"%d/%m/%Y\"),\"y hoy es\",hoy,\"he vivido\",(hoy-nací)/timedelta(hours=1))\n"
   ]
  },
  {
   "cell_type": "code",
   "execution_count": 31,
   "metadata": {},
   "outputs": [
    {
     "name": "stdout",
     "output_type": "stream",
     "text": [
      "000007.500\n"
     ]
    }
   ],
   "source": [
    "print(f\"{7.5:010.3f}\")"
   ]
  },
  {
   "cell_type": "code",
   "execution_count": 5,
   "metadata": {},
   "outputs": [
    {
     "name": "stdout",
     "output_type": "stream",
     "text": [
      "mi_lista1\n",
      "Todos pares: True\n",
      "FUNCIÓN Todos pares: True\n",
      "Alguno múltiplo de 3:  True\n",
      "FUNCIÓN Alguno múltiplo de 3: True\n",
      "\n",
      "mi_lista2\n",
      "Todos pares: False\n",
      "FUNCIÓN Todos pares: False\n",
      "Alguno múltiplo de 3:  False\n",
      "FUNCIÓN Alguno múltiplo de 3: False\n"
     ]
    }
   ],
   "source": [
    "mi_lista1 = [4,2,10,12,8,-10]\n",
    "mi_lista2 = [4,2,17,11,8,-10]\n",
    "\n",
    "def fun_todos_pares(lista:list)->bool:\n",
    "    for elemento in lista:\n",
    "        if elemento % 2 != 0:\n",
    "            return False\n",
    "    return True\n",
    "\n",
    "def fun_alguno_múltiplo_3(lista:list)->bool:\n",
    "    for elemento in lista:\n",
    "        if elemento % 3 == 0:\n",
    "            return True\n",
    "    return False\n",
    "\n",
    "print(\"mi_lista1\")\n",
    "todos_pares = all(map(lambda a: a%2 == 0,mi_lista1))\n",
    "print(\"Todos pares:\",todos_pares)\n",
    "print(\"FUNCIÓN Todos pares:\",fun_todos_pares(mi_lista1))\n",
    "alguno_múltiplo_3 = any(map(lambda a: a%3 == 0,mi_lista1))\n",
    "print(\"Alguno múltiplo de 3: \",alguno_múltiplo_3)\n",
    "print(\"FUNCIÓN Alguno múltiplo de 3:\",fun_alguno_múltiplo_3(mi_lista1))\n",
    "\n",
    "print(\"\\nmi_lista2\")\n",
    "todos_pares = all(map(lambda a: a%2 == 0,mi_lista2))\n",
    "print(\"Todos pares:\",todos_pares)\n",
    "print(\"FUNCIÓN Todos pares:\",fun_todos_pares(mi_lista2))\n",
    "alguno_múltiplo_3 = any(map(lambda a: a%3 == 0,mi_lista2))\n",
    "print(\"Alguno múltiplo de 3: \",alguno_múltiplo_3)\n",
    "print(\"FUNCIÓN Alguno múltiplo de 3:\",fun_alguno_múltiplo_3(mi_lista2))\n"
   ]
  },
  {
   "cell_type": "code",
   "execution_count": 17,
   "metadata": {},
   "outputs": [
    {
     "name": "stdout",
     "output_type": "stream",
     "text": [
      "dict_keys(['nombre', 'edad', 'altura'])\n",
      "dict_values(['Jose', 21, 1.7])\n",
      "dict_items([('nombre', 'Jose'), ('edad', 21), ('altura', 1.7)])\n"
     ]
    }
   ],
   "source": [
    "mi_dicctionario = {'nombre':\"Jose\", 'edad':21, 'altura':1.70}\n",
    "\n",
    "print(mi_dicctionario.keys())\n",
    "print(mi_dicctionario.values())\n",
    "print(mi_dicctionario.items())\n"
   ]
  },
  {
   "cell_type": "code",
   "execution_count": 77,
   "metadata": {},
   "outputs": [
    {
     "data": {
      "image/png": "[encoded data removed]",
      "text/plain": [
       "<Figure size 640x480 with 1 Axes>"
      ]
     },
     "metadata": {},
     "output_type": "display_data"
    }
   ],
   "source": [
    "import matplotlib.pyplot as plt\n",
    "xs = [x for x in range(-5,6)]\n",
    "ys = [x**2 for x in xs]\n",
    "\n",
    "fig, ax = plt.subplots()\n",
    "ax.plot(xs,ys, color = 'violet',linestyle='dashed')\n",
    "ax.set_title(\"Prueba\",loc='center',fontdict={'fontsize':10,'color':'teal','fontweight':'bold'})\n",
    "ax.set_xlabel('Eje X',loc='right',fontdict={'color':'lime'})\n",
    "ax.set_ylabel('Eje Y',loc='top',fontdict={'color':'indigo'})\n",
    "plt.show()"
   ]
  },
  {
   "cell_type": "code",
   "execution_count": null,
   "metadata": {},
   "outputs": [],
   "source": []
  }
 ],
 "metadata": {
  "kernelspec": {
   "display_name": "Python 3",
   "language": "python",
   "name": "python3"
  },
  "language_info": {
   "codemirror_mode": {
    "name": "ipython",
    "version": 3
   },
   "file_extension": ".py",
   "mimetype": "text/x-python",
   "name": "python",
   "nbconvert_exporter": "python",
   "pygments_lexer": "ipython3",
   "version": "3.12.3"
  }
 },
 "nbformat": 4,
 "nbformat_minor": 2
}
